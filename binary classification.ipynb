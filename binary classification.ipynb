{
  "nbformat": 4,
  "nbformat_minor": 0,
  "metadata": {
    "colab": {
      "name": "Untitled0.ipynb",
      "provenance": [],
      "collapsed_sections": []
    },
    "kernelspec": {
      "name": "python3",
      "display_name": "Python 3"
    }
  },
  "cells": [
    {
      "cell_type": "code",
      "metadata": {
        "id": "r9dvNeMStM5U",
        "colab_type": "code",
        "colab": {}
      },
      "source": [
        "import pandas as pd \n",
        "import numpy as np\n"
      ],
      "execution_count": 318,
      "outputs": []
    },
    {
      "cell_type": "code",
      "metadata": {
        "id": "LEJ2fOq2t0UR",
        "colab_type": "code",
        "colab": {
          "base_uri": "https://localhost:8080/",
          "height": 34
        },
        "outputId": "35350ea4-63de-41d4-d817-42efa63d499b"
      },
      "source": [
        "training_data = pd.read_csv(\"training.csv\", sep=';',encoding = 'utf-8-sig', decimal=',')\n",
        "training_data.head(5)\n",
        "training_data.loc[4]\n",
        "training_data.shape\n"
      ],
      "execution_count": 319,
      "outputs": [
        {
          "output_type": "execute_result",
          "data": {
            "text/plain": [
              "(3700, 19)"
            ]
          },
          "metadata": {
            "tags": []
          },
          "execution_count": 319
        }
      ]
    },
    {
      "cell_type": "code",
      "metadata": {
        "id": "AkIwgvhsztK5",
        "colab_type": "code",
        "colab": {}
      },
      "source": [
        "total = training_data.isnull().sum().sort_values(ascending=False)\n",
        "percent = (training_data.isnull().sum()/training_data.isnull().count()).sort_values(ascending=False)\n",
        "missing_data = pd.concat([total, percent], axis=1, keys=['Total', 'Percent'])\n"
      ],
      "execution_count": 320,
      "outputs": []
    },
    {
      "cell_type": "code",
      "metadata": {
        "id": "9Z2hbb4FRUS1",
        "colab_type": "code",
        "colab": {
          "base_uri": "https://localhost:8080/",
          "height": 67
        },
        "outputId": "62f39001-e8cd-460f-dcea-c559f934b9b5"
      },
      "source": [
        "#training_data['variable18'].value_counts().idxmax()\n",
        "variable18_mapping = {'f': 0,'t': 1}\n",
        "training_data['variable18'] = training_data['variable18'].map(variable18_mapping)\n",
        "training_data['variable18'] = training_data['variable18'].fillna(1)\n",
        "training_data['variable17'] = training_data['variable17'].fillna(training_data['variable17'].mean())\n",
        "training_data['variable14'] = training_data['variable17'].fillna(training_data['variable14'].mean())\n",
        "\n",
        "\n",
        "training_data['variable6']  = training_data['variable6'].fillna('c')\n",
        "print('variable6 is : ' , training_data['variable6'].unique())\n",
        "variable6_mapping = {'c': 0,'k': 1, 'ff':2 ,'i':3 ,'j':4 ,'q':5 ,'w':6 ,'d':7 ,'m':8, 'cc':9 , 'aa':10 , 'r':11 , 'x':12 , 'e':13}\n",
        "training_data['variable6'] = training_data['variable6'].map(variable6_mapping)\n",
        "training_data['variable6'] = training_data['variable6'].fillna(training_data['variable6'].mean())\n",
        "\n",
        "\n",
        "print('variable7 is : ' , training_data['variable7'].unique())\n",
        "training_data['variable7'] = training_data['variable7'].fillna(training_data['variable7'].value_counts().idxmax())\n",
        "variable7_mapping = {'v': 0,'ff': 1, 'o':2 ,'h':3 ,'j':4 ,'bb':5 ,'n':6 ,'z':7 ,'dd':8}\n",
        "training_data['variable7'] = training_data['variable7'].map(variable7_mapping)\n",
        "\n",
        "print('variable4 is : ' , training_data['variable4'].unique())\n",
        "training_data['variable4'] = training_data['variable4'].fillna(training_data['variable4'].value_counts().idxmax())\n",
        "variable4_mapping = {'u': 0,'y': 1, 'l':2 }\n",
        "training_data['variable4'] = training_data['variable4'].map(variable4_mapping)\n",
        "\n",
        "\n",
        "training_data['variable5'].unique()\n",
        "training_data['variable5'] = training_data['variable5'].fillna(training_data['variable5'].value_counts().idxmax())\n",
        "variable5_mapping = {'g': 0,'p': 1, 'gg':2 }\n",
        "training_data['variable5'] = training_data['variable5'].map(variable5_mapping)\n",
        "\n",
        "training_data['variable1'].unique()\n",
        "training_data['variable1'] = training_data['variable1'].fillna(training_data['variable1'].value_counts().idxmax())\n",
        "variable1_mapping = {'a': 0,'b': 1 }\n",
        "training_data['variable1'] = training_data['variable1'].map(variable1_mapping)\n",
        "\n",
        "training_data['variable2'].unique()\n",
        "training_data['variable2'] = training_data['variable2'].fillna(training_data['variable2'].mean())\n",
        "\n"
      ],
      "execution_count": 321,
      "outputs": [
        {
          "output_type": "stream",
          "text": [
            "variable6 is :  ['c' 'k' 'ff' 'i' 'j' 'q' 'W' 'd' 'm' 'cc' 'aa' 'r' 'x' 'e']\n",
            "variable7 is :  ['v' 'ff' 'o' 'h' 'j' 'bb' 'n' 'z' nan 'dd']\n",
            "variable4 is :  ['u' 'y' nan 'l']\n"
          ],
          "name": "stdout"
        }
      ]
    },
    {
      "cell_type": "code",
      "metadata": {
        "id": "qkwIUm7_IjTe",
        "colab_type": "code",
        "colab": {
          "base_uri": "https://localhost:8080/",
          "height": 34
        },
        "outputId": "784d0782-772c-4636-f10f-f3fa5ea29b9a"
      },
      "source": [
        "#dealing with missing data\n",
        "#training_data = training_data.drop((missing_data[missing_data['Total'] > 1]).index,1)\n",
        "training_data.isnull().sum().max() #just checking that there's no missing data missing..."
      ],
      "execution_count": 322,
      "outputs": [
        {
          "output_type": "execute_result",
          "data": {
            "text/plain": [
              "0"
            ]
          },
          "metadata": {
            "tags": []
          },
          "execution_count": 322
        }
      ]
    },
    {
      "cell_type": "code",
      "metadata": {
        "id": "1i42y5moLWZy",
        "colab_type": "code",
        "colab": {
          "base_uri": "https://localhost:8080/",
          "height": 101
        },
        "outputId": "3c1ff65e-4a84-4629-e711-dc83fece70d4"
      },
      "source": [
        "print('variable9 is : ' , training_data['variable9'].unique())\n",
        "variable9_mapping = {'f': 0,'t': 1}\n",
        "training_data['variable9'] = training_data['variable9'].map(variable9_mapping)\n",
        "\n",
        "\n",
        "print('variable12 is : ' , training_data['variable12'].unique())\n",
        "variable12_mapping = {'f': 0,'t': 1}\n",
        "training_data['variable12'] = training_data['variable12'].map(variable12_mapping)\n",
        "\n",
        "\n",
        "print('variable13 is : ' , training_data['variable13'].unique())\n",
        "variable13_mapping = {'g': 0,'s': 1,'p':2}\n",
        "training_data['variable13'] = training_data['variable13'].map(variable13_mapping)\n",
        "\n",
        "\n",
        "print('variable10 is : ' , training_data['variable10'].unique())\n",
        "variable10_mapping = {'f': 0,'t': 1}\n",
        "training_data['variable10'] = training_data['variable10'].map(variable10_mapping)\n",
        "\n",
        "\n",
        "print('classLabel is : ' , training_data['classLabel'].unique())\n",
        "classLabel_mapping = {'no.': 0,'yes.': 1}\n",
        "training_data['classLabel'] = training_data['classLabel'].map(classLabel_mapping)\n"
      ],
      "execution_count": 323,
      "outputs": [
        {
          "output_type": "stream",
          "text": [
            "variable9 is :  ['f' 't']\n",
            "variable12 is :  ['t' 'f']\n",
            "variable13 is :  ['g' 's' 'p']\n",
            "variable10 is :  ['t' 'f']\n",
            "classLabel is :  ['no.' 'yes.']\n"
          ],
          "name": "stdout"
        }
      ]
    },
    {
      "cell_type": "code",
      "metadata": {
        "id": "M_Tx4NCkPbr2",
        "colab_type": "code",
        "colab": {
          "base_uri": "https://localhost:8080/",
          "height": 50
        },
        "outputId": "ac33562b-5f12-4ab0-b6da-e7861621a18d"
      },
      "source": [
        "from sklearn.linear_model import LogisticRegression\n",
        "X = training_data.drop(['classLabel'] , axis=1)\n",
        "print (X.shape)\n",
        "y = training_data['classLabel']\n",
        "clf = LogisticRegression(random_state=10, solver='lbfgs' , max_iter= 1000 , C = 0.5 , tol = 0.01)\n",
        "#clf = LogisticRegression(random_state=10, solver='liblinear')\n",
        "#clf = LogisticRegression(random_state=10, solver='saga')\n",
        "training_data.shape\n"
      ],
      "execution_count": 324,
      "outputs": [
        {
          "output_type": "stream",
          "text": [
            "(3700, 18)\n"
          ],
          "name": "stdout"
        },
        {
          "output_type": "execute_result",
          "data": {
            "text/plain": [
              "(3700, 19)"
            ]
          },
          "metadata": {
            "tags": []
          },
          "execution_count": 324
        }
      ]
    },
    {
      "cell_type": "code",
      "metadata": {
        "id": "18lecuRoYIhB",
        "colab_type": "code",
        "colab": {}
      },
      "source": [
        "test_data = pd.read_csv(\"validation.csv\", sep=';',encoding = 'utf-8-sig', decimal=',')\n"
      ],
      "execution_count": 325,
      "outputs": []
    },
    {
      "cell_type": "code",
      "metadata": {
        "colab_type": "code",
        "id": "ghRk9p8pZ43R",
        "colab": {
          "base_uri": "https://localhost:8080/",
          "height": 610
        },
        "outputId": "fea37fc9-d506-4fd9-bc2d-dee9130f661d"
      },
      "source": [
        "total = test_data.isnull().sum().sort_values(ascending=False)\n",
        "percent = (test_data.isnull().sum()/test_data.isnull().count()).sort_values(ascending=False)\n",
        "missing_data = pd.concat([total, percent], axis=1, keys=['Total', 'Percent'])\n",
        "missing_data"
      ],
      "execution_count": 326,
      "outputs": [
        {
          "output_type": "execute_result",
          "data": {
            "text/html": [
              "<div>\n",
              "<style scoped>\n",
              "    .dataframe tbody tr th:only-of-type {\n",
              "        vertical-align: middle;\n",
              "    }\n",
              "\n",
              "    .dataframe tbody tr th {\n",
              "        vertical-align: top;\n",
              "    }\n",
              "\n",
              "    .dataframe thead th {\n",
              "        text-align: right;\n",
              "    }\n",
              "</style>\n",
              "<table border=\"1\" class=\"dataframe\">\n",
              "  <thead>\n",
              "    <tr style=\"text-align: right;\">\n",
              "      <th></th>\n",
              "      <th>Total</th>\n",
              "      <th>Percent</th>\n",
              "    </tr>\n",
              "  </thead>\n",
              "  <tbody>\n",
              "    <tr>\n",
              "      <th>variable18</th>\n",
              "      <td>111</td>\n",
              "      <td>0.555</td>\n",
              "    </tr>\n",
              "    <tr>\n",
              "      <th>variable1</th>\n",
              "      <td>3</td>\n",
              "      <td>0.015</td>\n",
              "    </tr>\n",
              "    <tr>\n",
              "      <th>variable17</th>\n",
              "      <td>3</td>\n",
              "      <td>0.015</td>\n",
              "    </tr>\n",
              "    <tr>\n",
              "      <th>variable2</th>\n",
              "      <td>3</td>\n",
              "      <td>0.015</td>\n",
              "    </tr>\n",
              "    <tr>\n",
              "      <th>variable14</th>\n",
              "      <td>3</td>\n",
              "      <td>0.015</td>\n",
              "    </tr>\n",
              "    <tr>\n",
              "      <th>variable6</th>\n",
              "      <td>3</td>\n",
              "      <td>0.015</td>\n",
              "    </tr>\n",
              "    <tr>\n",
              "      <th>variable7</th>\n",
              "      <td>3</td>\n",
              "      <td>0.015</td>\n",
              "    </tr>\n",
              "    <tr>\n",
              "      <th>variable4</th>\n",
              "      <td>2</td>\n",
              "      <td>0.010</td>\n",
              "    </tr>\n",
              "    <tr>\n",
              "      <th>variable5</th>\n",
              "      <td>2</td>\n",
              "      <td>0.010</td>\n",
              "    </tr>\n",
              "    <tr>\n",
              "      <th>variable8</th>\n",
              "      <td>0</td>\n",
              "      <td>0.000</td>\n",
              "    </tr>\n",
              "    <tr>\n",
              "      <th>variable3</th>\n",
              "      <td>0</td>\n",
              "      <td>0.000</td>\n",
              "    </tr>\n",
              "    <tr>\n",
              "      <th>classLabel</th>\n",
              "      <td>0</td>\n",
              "      <td>0.000</td>\n",
              "    </tr>\n",
              "    <tr>\n",
              "      <th>variable9</th>\n",
              "      <td>0</td>\n",
              "      <td>0.000</td>\n",
              "    </tr>\n",
              "    <tr>\n",
              "      <th>variable19</th>\n",
              "      <td>0</td>\n",
              "      <td>0.000</td>\n",
              "    </tr>\n",
              "    <tr>\n",
              "      <th>variable11</th>\n",
              "      <td>0</td>\n",
              "      <td>0.000</td>\n",
              "    </tr>\n",
              "    <tr>\n",
              "      <th>variable12</th>\n",
              "      <td>0</td>\n",
              "      <td>0.000</td>\n",
              "    </tr>\n",
              "    <tr>\n",
              "      <th>variable13</th>\n",
              "      <td>0</td>\n",
              "      <td>0.000</td>\n",
              "    </tr>\n",
              "    <tr>\n",
              "      <th>variable15</th>\n",
              "      <td>0</td>\n",
              "      <td>0.000</td>\n",
              "    </tr>\n",
              "    <tr>\n",
              "      <th>variable10</th>\n",
              "      <td>0</td>\n",
              "      <td>0.000</td>\n",
              "    </tr>\n",
              "  </tbody>\n",
              "</table>\n",
              "</div>"
            ],
            "text/plain": [
              "            Total  Percent\n",
              "variable18    111    0.555\n",
              "variable1       3    0.015\n",
              "variable17      3    0.015\n",
              "variable2       3    0.015\n",
              "variable14      3    0.015\n",
              "variable6       3    0.015\n",
              "variable7       3    0.015\n",
              "variable4       2    0.010\n",
              "variable5       2    0.010\n",
              "variable8       0    0.000\n",
              "variable3       0    0.000\n",
              "classLabel      0    0.000\n",
              "variable9       0    0.000\n",
              "variable19      0    0.000\n",
              "variable11      0    0.000\n",
              "variable12      0    0.000\n",
              "variable13      0    0.000\n",
              "variable15      0    0.000\n",
              "variable10      0    0.000"
            ]
          },
          "metadata": {
            "tags": []
          },
          "execution_count": 326
        }
      ]
    },
    {
      "cell_type": "code",
      "metadata": {
        "id": "ZydzipGAi9s2",
        "colab_type": "code",
        "colab": {}
      },
      "source": [
        "test_data['variable18'].unique()\n",
        "variable18_mapping = {'f': 0,'t': 1}\n",
        "test_data['variable18'] = test_data['variable18'].map(variable18_mapping)\n",
        "test_data['variable18'] = test_data['variable18'].fillna(0)\n",
        "\n",
        "\n",
        "variable1_mapping = {'a': 0,'b': 1}\n",
        "test_data['variable1'] = test_data['variable1'].map(variable1_mapping)\n",
        "test_data['variable1'] = test_data['variable1'].fillna(test_data['variable1'].value_counts().idxmax())\n",
        "\n",
        "test_data['variable2'] = test_data['variable2'].fillna(test_data['variable2'].mean())\n",
        "test_data['variable17'] = test_data['variable17'].fillna(test_data['variable17'].mean())\n",
        "test_data['variable14'] = test_data['variable14'].fillna(test_data['variable17'].mean())\n",
        "\n",
        "\n",
        "variable6_mapping = {'c': 0,'k': 1, 'ff':2 ,'i':3 ,'j':4 ,'q':5 ,'w':6 ,'d':7 ,'m':8, 'cc':9 , 'aa':10 , 'r':11 , 'x':12 , 'e':13}\n",
        "test_data['variable6'] = test_data['variable6'].map(variable6_mapping)\n",
        "test_data['variable6'] = test_data['variable6'].fillna(test_data['variable6'].mean())\n",
        "\n",
        "test_data['variable4'] = test_data['variable4'].fillna(test_data['variable4'].value_counts().idxmax())\n",
        "variable4_mapping = {'u': 0,'y': 1 }\n",
        "test_data['variable4'] = test_data['variable4'].map(variable4_mapping)\n",
        "\n",
        "test_data['variable5'] = test_data['variable5'].fillna(test_data['variable5'].value_counts().idxmax())\n",
        "variable5_mapping = {'g': 0,'p': 1 }\n",
        "test_data['variable5'] = test_data['variable5'].map(variable5_mapping)\n",
        "\n",
        "test_data['variable7'] = test_data['variable7'].fillna(test_data['variable7'].value_counts().idxmax())\n",
        "variable7_mapping = {'bb': 0,'v': 1 , 'ff':2 , 'z':3 , 'h':4 , 'dd':5 , 'n':6 , 'j':7 }\n",
        "test_data['variable7'] = test_data['variable7'].map(variable7_mapping)\n"
      ],
      "execution_count": 327,
      "outputs": []
    },
    {
      "cell_type": "code",
      "metadata": {
        "id": "gfeA_YuwkTw2",
        "colab_type": "code",
        "colab": {}
      },
      "source": [
        ""
      ],
      "execution_count": 327,
      "outputs": []
    },
    {
      "cell_type": "code",
      "metadata": {
        "colab_type": "code",
        "id": "m3ZUYB9oaUgZ",
        "colab": {
          "base_uri": "https://localhost:8080/",
          "height": 34
        },
        "outputId": "ccc634cf-d8f2-4328-c5ef-7e3aee509cb5"
      },
      "source": [
        "#dealing with missing data\n",
        "test_data.isnull().sum().max() #just checking that there's no missing data missing..."
      ],
      "execution_count": 328,
      "outputs": [
        {
          "output_type": "execute_result",
          "data": {
            "text/plain": [
              "0"
            ]
          },
          "metadata": {
            "tags": []
          },
          "execution_count": 328
        }
      ]
    },
    {
      "cell_type": "code",
      "metadata": {
        "id": "tHr1YevTaXSk",
        "colab_type": "code",
        "colab": {
          "base_uri": "https://localhost:8080/",
          "height": 101
        },
        "outputId": "e9a88245-9e81-49b9-a09a-790c74bd15e7"
      },
      "source": [
        "print('variable9 is : ' , test_data['variable9'].unique())\n",
        "variable9_mapping = {'f': 0,'t': 1}\n",
        "test_data['variable9'] = test_data['variable9'].map(variable9_mapping)\n",
        "\n",
        "print('variable12 is : ' , test_data['variable12'].unique())\n",
        "variable12_mapping = {'f': 0,'t': 1}\n",
        "test_data['variable12'] = test_data['variable12'].map(variable12_mapping)\n",
        "\n",
        "\n",
        "print('variable13 is : ' , test_data['variable13'].unique())\n",
        "variable13_mapping = {'g': 0,'s': 1,'p':2}\n",
        "test_data['variable13'] = test_data['variable13'].map(variable13_mapping)\n",
        "\n",
        "print('variable10 is : ' , test_data['variable10'].unique())\n",
        "variable10_mapping = {'f': 0,'t': 1}\n",
        "test_data['variable10'] = test_data['variable10'].map(variable10_mapping)\n",
        "\n",
        "\n",
        "print('classLabel is : ' , test_data['classLabel'].unique())\n",
        "classLabel_mapping = {'no.': 0,'yes.': 1}\n",
        "test_data['classLabel'] = test_data['classLabel'].map(classLabel_mapping)\n"
      ],
      "execution_count": 329,
      "outputs": [
        {
          "output_type": "stream",
          "text": [
            "variable9 is :  ['t' 'f']\n",
            "variable12 is :  ['t' 'f']\n",
            "variable13 is :  ['s' 'g' 'p']\n",
            "variable10 is :  ['f' 't']\n",
            "classLabel is :  ['no.' 'yes.']\n"
          ],
          "name": "stdout"
        }
      ]
    },
    {
      "cell_type": "code",
      "metadata": {
        "id": "h5GJKWB_hwqR",
        "colab_type": "code",
        "colab": {}
      },
      "source": [
        ""
      ],
      "execution_count": 329,
      "outputs": []
    },
    {
      "cell_type": "code",
      "metadata": {
        "id": "WnsVEaEOcCwK",
        "colab_type": "code",
        "colab": {
          "base_uri": "https://localhost:8080/",
          "height": 50
        },
        "outputId": "da89cb5f-a663-44f5-fb47-7e6f93c1f4b0"
      },
      "source": [
        "X = training_data.drop(['classLabel'] , axis=1)\n",
        "print (X.shape)\n",
        "y = training_data['classLabel']\n",
        "X_test = test_data.drop(['classLabel'] , axis=1)\n",
        "print (X_test.shape)\n",
        "y_test = test_data['classLabel']"
      ],
      "execution_count": 330,
      "outputs": [
        {
          "output_type": "stream",
          "text": [
            "(3700, 18)\n",
            "(200, 18)\n"
          ],
          "name": "stdout"
        }
      ]
    },
    {
      "cell_type": "code",
      "metadata": {
        "id": "XTlOMEXA0Zh-",
        "colab_type": "code",
        "colab": {
          "base_uri": "https://localhost:8080/",
          "height": 50
        },
        "outputId": "10f2120b-e412-4748-8990-34cba9d4f68a"
      },
      "source": [
        "# Feature Scaling\n",
        "from sklearn.preprocessing import StandardScaler\n",
        "\n",
        "sc = StandardScaler()\n",
        "X = sc.fit_transform(X)\n",
        "X_test = sc.transform(X_test)\n",
        "\n",
        "\n",
        "# Fitting Logistic Regression to the Training set\n",
        "clss = LogisticRegression(random_state = 0)\n",
        "clss.fit(X, y)\n",
        "\n",
        "# Predicting the Test set results\n",
        "y_pred = clss.predict(X)\n",
        "y_pred \n",
        "print('LogisticRegressionModel Train Score is : ' , clss.score(X, y))\n",
        "print('LogisticRegressionModel Test Score is : ' , clss.score(X_test, y_test))"
      ],
      "execution_count": 334,
      "outputs": [
        {
          "output_type": "stream",
          "text": [
            "LogisticRegressionModel Train Score is :  1.0\n",
            "LogisticRegressionModel Test Score is :  0.495\n"
          ],
          "name": "stdout"
        }
      ]
    },
    {
      "cell_type": "code",
      "metadata": {
        "id": "9udxt-SvcfQx",
        "colab_type": "code",
        "colab": {}
      },
      "source": [
        "#scaler = preprocessing.StandardScaler().fit(X)\n",
        "#LogisticRegressionModel = LogisticRegression(penalty='l2',solver='sag',C=1.0,random_state=33)\n",
        "#LogisticRegressionModel.fit(X, y)\n",
        "#scaler = preprocessing.StandardScaler().fit(X)\n",
        "\n",
        "#Calculating Details\n",
        "#print('LogisticRegressionModel Train Score is : ' , LogisticRegressionModel.score(X, y))\n",
        "#print('LogisticRegressionModel Test Score is : ' , LogisticRegressionModel.score(X_test, y_test))\n",
        "#print('LogisticRegressionModel Classes are : ' , LogisticRegressionModel.classes_)\n",
        "#print('LogisticRegressionModel No. of iteratios is : ' , LogisticRegressionModel.n_iter_)\n",
        "#print('----------------------------------------------------')\n",
        "\n",
        "#Calculating Prediction\n",
        "#y_pred = LogisticRegressionModel.predict(X_test)\n",
        "#y_pred_prob = LogisticRegressionModel.predict_proba(X_test)\n",
        "#print('Predicted Value for LogisticRegressionModel is : ' , y_pred[:10])\n",
        "#print('Prediction Probabilities Value for LogisticRegressionModel is : ' , y_pred_prob[:10])\n"
      ],
      "execution_count": 332,
      "outputs": []
    },
    {
      "cell_type": "code",
      "metadata": {
        "id": "Tdyb65L-cwiF",
        "colab_type": "code",
        "colab": {}
      },
      "source": [
        ""
      ],
      "execution_count": 332,
      "outputs": []
    }
  ]
}